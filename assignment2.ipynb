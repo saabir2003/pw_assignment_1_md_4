{
 "cells": [
  {
   "cell_type": "markdown",
   "id": "2484211b-5175-440d-b73d-0b144a6423a5",
   "metadata": {},
   "source": [
    "##1)Discuss string slicing and provide examples"
   ]
  },
  {
   "cell_type": "code",
   "execution_count": 3,
   "id": "f69b2653-5eb8-4560-9b53-a10af81faa54",
   "metadata": {},
   "outputs": [],
   "source": [
    "#string can be slicied by [s:e:st]\n",
    "#where s=start\n",
    "#e=end\n",
    "#st=step"
   ]
  },
  {
   "cell_type": "markdown",
   "id": "b2e63c56-a5d5-43df-b45e-ec9d6652ae4b",
   "metadata": {},
   "source": [
    "###example"
   ]
  },
  {
   "cell_type": "code",
   "execution_count": 9,
   "id": "65bde54b-dd2c-4bc5-9b2e-cdbf59b28f35",
   "metadata": {},
   "outputs": [
    {
     "data": {
      "text/plain": [
       "'aa'"
      ]
     },
     "execution_count": 9,
     "metadata": {},
     "output_type": "execute_result"
    }
   ],
   "source": [
    "a=\"saabir\"\n",
    "b=a[1:3]#b is index between index 1 and 2\n",
    "b"
   ]
  },
  {
   "cell_type": "code",
   "execution_count": 13,
   "id": "d41f4038-29e0-42dc-a3aa-8c760743b304",
   "metadata": {},
   "outputs": [
    {
     "data": {
      "text/plain": [
       "'sai'"
      ]
     },
     "execution_count": 13,
     "metadata": {},
     "output_type": "execute_result"
    }
   ],
   "source": [
    "c=a[::2]#c is a's index of start to end with step function of 2\n",
    "c"
   ]
  },
  {
   "cell_type": "raw",
   "id": "1286ab0b-99cf-4d43-8f24-0bc9f3e31f77",
   "metadata": {},
   "source": [
    "##2)Explain the key features of lists in Python"
   ]
  },
  {
   "cell_type": "code",
   "execution_count": null,
   "id": "b65f8968-4224-4e4d-b5f1-cd3e538a4e00",
   "metadata": {},
   "outputs": [],
   "source": [
    "'''\n",
    "1)lists are mutable and be easily assessable , modified \n",
    "2) lists store heterogeous elements of data in a sequential manner storing all duplicate elements\n",
    "3)we can use slicing in lists\n",
    "4) we can also store multiple lists in a list which is also nested lists\n",
    "5) lists are easy and simple to use\n",
    "'''"
   ]
  },
  {
   "cell_type": "markdown",
   "id": "d4180c27-044b-4331-9d39-4ae2c36654a5",
   "metadata": {},
   "source": [
    "##3)Describe how to access, modify, and delete elements in a list with examples"
   ]
  },
  {
   "cell_type": "code",
   "execution_count": 25,
   "id": "6b1a2b0d-00a9-49ae-9872-b5988c7db4c3",
   "metadata": {},
   "outputs": [
    {
     "name": "stdout",
     "output_type": "stream",
     "text": [
      "2nd elment =  [1, 2, 3]\n",
      "last elment =  saabir\n"
     ]
    }
   ],
   "source": [
    "lis=[1,2,[1,2,3],4.6,\"saabir\"]\n",
    "#accessing elements lists\n",
    "print(\"2nd elment = \",lis[2])#2nd element\n",
    "print(\"last elment = \",lis[-1])#access last element"
   ]
  },
  {
   "cell_type": "code",
   "execution_count": 27,
   "id": "0c1bb67b-8341-4bc1-92a4-b8b0985c4195",
   "metadata": {},
   "outputs": [
    {
     "name": "stdout",
     "output_type": "stream",
     "text": [
      "2nd elment =  pwskills\n",
      "last elment =  last element\n"
     ]
    }
   ],
   "source": [
    "#modifing elements lists\n",
    "lis[2]=\"pwskills\"\n",
    "lis[-1]=\"last element\"\n",
    "print(\"2nd elment = \",lis[2])#2nd element\n",
    "print(\"last elment = \",lis[-1])#access last element"
   ]
  },
  {
   "cell_type": "code",
   "execution_count": 39,
   "id": "9e2d6589-a2e2-4f06-b00d-e57ee31f13d4",
   "metadata": {},
   "outputs": [
    {
     "name": "stdout",
     "output_type": "stream",
     "text": [
      "[1, 4.6, 'saabir']\n",
      "last elment =  saabir\n"
     ]
    }
   ],
   "source": [
    "#deleting elements lists\n",
    "lis=[1,2,[1,2,3],4.6,\"saabir\"]\n",
    "lis.pop(2)# remove by index\n",
    "lis.pop(1)# remove by value\n",
    "print(lis)#2nd element\n",
    "print(\"last elment = \",lis[-1])#access last element"
   ]
  },
  {
   "cell_type": "markdown",
   "id": "7ccbabdf-a9ce-4081-a5f2-75d896dec264",
   "metadata": {},
   "source": [
    "#4)Compare and contrast tuples and lists with examples"
   ]
  },
  {
   "cell_type": "code",
   "execution_count": null,
   "id": "5ac09b17-3323-49fc-a203-4891d9a93770",
   "metadata": {},
   "outputs": [],
   "source": [
    "'''\n",
    "list\n",
    "1)lists are mutable and be easily assessable , modified \n",
    "2) lists store heterogeous elements of data in a sequential manner storing all duplicate elements\n",
    "3)we can use slicing in lists\n",
    "4) we can also store multiple lists in a list which is also nested lists\n",
    "5) lists are easy and simple to use\n",
    "\n",
    "tuple\n",
    "1)tuples are not mutable \n",
    "2) they cannot be modified\n",
    "3) tuple cannot be changed they are fixed unlike list\n",
    "'''\n"
   ]
  },
  {
   "cell_type": "code",
   "execution_count": 43,
   "id": "27827d10-4d42-4b8f-ae84-8199396c15a0",
   "metadata": {},
   "outputs": [
    {
     "name": "stdout",
     "output_type": "stream",
     "text": [
      "2nd elment =  [1, 2, 3]\n",
      "last elment =  saabir\n",
      "2nd elment =  pwskills\n",
      "last elment =  last element\n",
      "[1, 4.6, 'saabir']\n",
      "last elment =  saabir\n"
     ]
    }
   ],
   "source": [
    "#list\n",
    "li=[1,2,[1,2,3],4.6,\"saabir\"]\n",
    "#accessing elements lists\n",
    "print(\"2nd elment = \",li[2])#2nd element\n",
    "print(\"last elment = \",li[-1])#access last element#modifing elements lists\n",
    "li[2]=\"pwskills\"\n",
    "li[-1]=\"last element\"\n",
    "print(\"2nd elment = \",li[2])#2nd element\n",
    "print(\"last elment = \",li[-1])#access last element#deleting elements lists\n",
    "li=[1,2,[1,2,3],4.6,\"saabir\"]\n",
    "li.pop(2)# remove by index\n",
    "li.pop(1)# remove by value\n",
    "print(li)#2nd element\n",
    "print(\"last elment = \",li[-1])#access last element"
   ]
  },
  {
   "cell_type": "code",
   "execution_count": 53,
   "id": "805465ed-acec-435b-a6f6-83a8a4e089e1",
   "metadata": {},
   "outputs": [
    {
     "name": "stdout",
     "output_type": "stream",
     "text": [
      "2nd elment =  [1, 2, 3]\n",
      "last elment =  saabir\n",
      "2nd elment =  [1, 2, 3]\n",
      "last elment =  saabir\n",
      "(1, 2, [1, 2, 3], 4.6, 'saabir')\n",
      "last elment =  saabir\n"
     ]
    }
   ],
   "source": [
    "#tuple\n",
    "tu=(1,2,[1,2,3],4.6,\"saabir\")\n",
    "#accessing elements lists\n",
    "print(\"2nd elment = \",tu[2])#2nd element\n",
    "print(\"last elment = \",tu[-1])#access last element#modifing elements lists\n",
    "#tu[2]=\"pwskills\"# error\n",
    "#tu[-1]=\"last element\"#error\n",
    "print(\"2nd elment = \",tu[2])#2nd element\n",
    "print(\"last elment = \",tu[-1])#access last element#deleting elements lists\n",
    "tu=(1,2,[1,2,3],4.6,\"saabir\")\n",
    "#tu.pop(2)# error\n",
    "#tu.pop(1)# error\n",
    "print(tu)#2nd element\n",
    "print(\"last elment = \",tu[-1])#access last element"
   ]
  },
  {
   "cell_type": "markdown",
   "id": "f4cf0043-05a4-49cd-87a7-713a8b66d683",
   "metadata": {},
   "source": [
    "#5)Describe the key features of sets and provide examples of their use?"
   ]
  },
  {
   "cell_type": "code",
   "execution_count": null,
   "id": "a9cecbf9-4158-4f55-9ed3-28b6b2b1f7e1",
   "metadata": {},
   "outputs": [],
   "source": [
    "'''\n",
    "key feature of sets\n",
    "1)set only store unique data elements\n",
    "2)set cannot be modified by index\n",
    "3)set cannot be accessed by index\n",
    "4)it is represented by curly brackets\n",
    "5) we can add or remove elements in sets with remove\n",
    "6)it is unindexed element in set\n",
    "'''"
   ]
  },
  {
   "cell_type": "code",
   "execution_count": 73,
   "id": "cbb08361-6476-455f-a49e-8e55c987f724",
   "metadata": {},
   "outputs": [
    {
     "name": "stdout",
     "output_type": "stream",
     "text": [
      "no unique elements in this set {1, 2, 'saabir'}\n",
      "{2, 'saabir'}\n",
      "{2, 'saabir', 4}\n"
     ]
    }
   ],
   "source": [
    "se={1,2,\"saabir\",1,2}\n",
    "print(\"no unique elements in this set\",se)\n",
    "se.remove(1)#removval of element in set by value\n",
    "print(se)\n",
    "se.add(4)#adding of element of element in set by value\n",
    "print(se)"
   ]
  },
  {
   "cell_type": "markdown",
   "id": "cced9a05-5ca4-47b2-9a94-8557672dd3eb",
   "metadata": {},
   "source": [
    "#6)Discuss the use cases of tuples and sets in Python programming"
   ]
  },
  {
   "cell_type": "code",
   "execution_count": null,
   "id": "ca74cf4f-0208-424d-9d36-9478f1d8c2e8",
   "metadata": {},
   "outputs": [],
   "source": [
    "'''\n",
    "use cases of tuples\n",
    "tuple are used when we don t need to change any element in set example \n",
    "example id number of employees\n",
    "name of persons, pan card id ,etc\n",
    "\n",
    "use cases of sets\n",
    "storing avaiable items in market\n",
    "list of collection in a musemum\n",
    "list of coupon codes in store\n",
    "'''\n"
   ]
  },
  {
   "cell_type": "markdown",
   "id": "10305146-709c-47d8-ab75-0182715d1661",
   "metadata": {},
   "source": [
    "#7)Describe how to add, modify, and delete items in a dictionary with examples"
   ]
  },
  {
   "cell_type": "code",
   "execution_count": 89,
   "id": "3adfee7c-12fd-4401-8ebf-8fd1ec58690e",
   "metadata": {},
   "outputs": [
    {
     "name": "stdout",
     "output_type": "stream",
     "text": [
      "{1: 'one', 2: 'two', 3: 'three'}\n",
      "{1: 'index 0', 2: 'index 1', 3: 'three'}\n",
      "{1: 'index 0'}\n"
     ]
    }
   ],
   "source": [
    "#adding items in a dictionary\n",
    "#we can add items in dictionary directly\n",
    "dic={}\n",
    "dic[1]=\"one\"\n",
    "dic[2]=\"two\"\n",
    "dic[3]=\"three\"\n",
    "print(dic)\n",
    "#modifiy items in dictionary\n",
    "dic[1]=\"index 0\"# we can modify items directly in dictionary\n",
    "dic[2]=\"index 1\"\n",
    "print(dic)\n",
    "#delete items in dictionary\n",
    "dic.pop(3)# pop is used to remove item from dictionary\n",
    "dic.pop(2)\n",
    "print(dic)"
   ]
  },
  {
   "cell_type": "markdown",
   "id": "322e1ad1-4327-46fd-b944-6bb8d42c33d9",
   "metadata": {},
   "source": [
    "#8)Discuss the importance of dictionary keys being immutable and provide examples"
   ]
  },
  {
   "cell_type": "code",
   "execution_count": null,
   "id": "c9f4f17d-e9cd-4262-9039-6d5a91ea6a2a",
   "metadata": {},
   "outputs": [],
   "source": [
    "'''\n",
    "dictionary keys are immutable because \n",
    "in every key value pair the value is represented by a unique key which is irreplacable and used to map or index according\n",
    "just like in list has index dictionary has key , and it is represented in a particular way\n",
    "'''\n"
   ]
  },
  {
   "cell_type": "code",
   "execution_count": null,
   "id": "73078389-4bae-49e8-a9d7-6b822a268f58",
   "metadata": {},
   "outputs": [],
   "source": [
    "#di is a dictionary where we add elemets in key value pairs and modification are made in relation to key\n",
    "di={}\n",
    "di[1]=\"one\"\n",
    "di[2]=\"two\"\n",
    "di[3]=\"three\"\n",
    "print(di)\n",
    "#modifiy items in dictionary\n",
    "di[1]=\"index 0\"# we can modify items directly in dictionary\n",
    "di[2]=\"index 1\"\n",
    "print(di)"
   ]
  }
 ],
 "metadata": {
  "kernelspec": {
   "display_name": "Python 3 (ipykernel)",
   "language": "python",
   "name": "python3"
  },
  "language_info": {
   "codemirror_mode": {
    "name": "ipython",
    "version": 3
   },
   "file_extension": ".py",
   "mimetype": "text/x-python",
   "name": "python",
   "nbconvert_exporter": "python",
   "pygments_lexer": "ipython3",
   "version": "3.12.4"
  }
 },
 "nbformat": 4,
 "nbformat_minor": 5
}
